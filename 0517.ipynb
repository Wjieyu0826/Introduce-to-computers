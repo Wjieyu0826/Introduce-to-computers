{
  "nbformat": 4,
  "nbformat_minor": 0,
  "metadata": {
    "colab": {
      "provenance": [],
      "authorship_tag": "ABX9TyO8Hw/mE4Q8voiyN6F9vQqt",
      "include_colab_link": true
    },
    "kernelspec": {
      "name": "python3",
      "display_name": "Python 3"
    },
    "language_info": {
      "name": "python"
    }
  },
  "cells": [
    {
      "cell_type": "markdown",
      "metadata": {
        "id": "view-in-github",
        "colab_type": "text"
      },
      "source": [
        "<a href=\"https://colab.research.google.com/github/Wjieyu0826/Introduce-to-computers/blob/main/0517.ipynb\" target=\"_parent\"><img src=\"https://colab.research.google.com/assets/colab-badge.svg\" alt=\"Open In Colab\"/></a>"
      ]
    },
    {
      "cell_type": "code",
      "execution_count": 1,
      "metadata": {
        "colab": {
          "base_uri": "https://localhost:8080/"
        },
        "id": "FIb_JU9bx0mL",
        "outputId": "5aa7a7cd-e525-4077-d869-cbf4f5752ece"
      },
      "outputs": [
        {
          "output_type": "stream",
          "name": "stdout",
          "text": [
            "score: 85\n",
            "Grade is: B\n"
          ]
        }
      ],
      "source": [
        "score = int(input(\"score: \"))\n",
        "if score >= 90:\n",
        "  print('Grade is: A')\n",
        "elif score >= 80:\n",
        "  print('Grade is: B')\n",
        "elif score >= 70:\n",
        "  print('Grade is: C')\n",
        "elif score >= 60:\n",
        "  print('Grade is: D')\n",
        "else:\n",
        "  print('Grade is: F')"
      ]
    },
    {
      "cell_type": "code",
      "source": [
        "temperature = float(input(\"temperature: \"))\n",
        "if temperature >= 37.5:\n",
        "  print(\"體溫過高！\")\n",
        "elif temperature >= 37 and temperature <= 37.4 :\n",
        "  print(\"體溫略高！\")\n",
        "elif temperature >= 34 and temperature <= 36.9 :\n",
        "  print(\"體溫正常！\")\n",
        "else:\n",
        "  print(\"體溫異常，請重新量測!\")"
      ],
      "metadata": {
        "colab": {
          "base_uri": "https://localhost:8080/"
        },
        "id": "sp9Iru1u1BYK",
        "outputId": "32302cfe-3f20-4f67-d025-c5c406e45ad5"
      },
      "execution_count": 13,
      "outputs": [
        {
          "output_type": "stream",
          "name": "stdout",
          "text": [
            "temperature: 35\n",
            "體溫正常！\n"
          ]
        }
      ]
    },
    {
      "cell_type": "code",
      "source": [
        "month = int(input(\"month: \"))\n",
        "if month >= 3 and month <=5:\n",
        "  print(\"是春天！\")\n",
        "elif month >= 6 and month <=8:\n",
        "  print(\"是夏天！\")\n",
        "elif month >= 9 and month <=11:\n",
        "  print(\"是秋天！\")\n",
        "elif month == 12 or month == 1 or month == 2:\n",
        "  print(\"是冬天！\")\n",
        "else:\n",
        "  print(\"月份不在範圍內!\")"
      ],
      "metadata": {
        "colab": {
          "base_uri": "https://localhost:8080/"
        },
        "id": "pfn1rtkD2wHN",
        "outputId": "9cf841f5-0a95-4af9-ae53-e7d928c3c28d"
      },
      "execution_count": 3,
      "outputs": [
        {
          "output_type": "stream",
          "name": "stdout",
          "text": [
            "month: 1\n",
            "是冬天！\n"
          ]
        }
      ]
    },
    {
      "cell_type": "code",
      "source": [
        "income = int(input(\"請輸入今年收入淨額: \"))\n",
        "if income >= 2000000 :\n",
        "  print(\"付稅金額:\",income*0.3)\n",
        "elif income >= 1000000:\n",
        "  print(\"付稅金額:\",income*0.21)\n",
        "elif income >= 600000:\n",
        "  print(\"付稅金額:\",income*0.13)\n",
        "elif income >= 300000:\n",
        "  print(\"付稅金額:\",income*0.06)\n",
        "else:\n",
        "  print(\"付稅金額:\",income*0)"
      ],
      "metadata": {
        "colab": {
          "base_uri": "https://localhost:8080/"
        },
        "id": "tTWtIjjE4RXF",
        "outputId": "05970e8a-a2ff-4ff1-ebcf-ea612c2d0865"
      },
      "execution_count": 16,
      "outputs": [
        {
          "output_type": "stream",
          "name": "stdout",
          "text": [
            "請輸入今年收入淨額: 10000\n",
            "付稅金額: 0\n"
          ]
        }
      ]
    },
    {
      "cell_type": "code",
      "source": [
        "rain = input(\"今天會下雨嗎？\")\n",
        "if (rain == \"Y\" or rain == \"y\"):\n",
        "  print(\"出門記得帶傘！\")\n",
        "elif (rain == \"N\" or rain == \"n\"):\n",
        "  print(\"出門記得帶傘！\")\n",
        "else:\n",
        "  print(\"請重新輸入！\")"
      ],
      "metadata": {
        "colab": {
          "base_uri": "https://localhost:8080/"
        },
        "id": "ey8HHmrx6q2j",
        "outputId": "b1783602-9af6-463a-c044-de795d69ebc8"
      },
      "execution_count": 12,
      "outputs": [
        {
          "output_type": "stream",
          "name": "stdout",
          "text": [
            "今天會下雨嗎？k\n",
            "請重新輸入！\n"
          ]
        }
      ]
    },
    {
      "cell_type": "code",
      "source": [
        "score = int(input(\"score:\"))\n",
        "if score >= 90:\n",
        "  print(\"A\")\n",
        "elif 80 <= score <= 89:\n",
        "  print(\"B\")\n",
        "elif 70 <= score <= 79:\n",
        "  print(\"C\")\n",
        "elif 60 <= score <= 69:\n",
        "  print(\"D\")\n",
        "else:\n",
        "  print(\"E\")"
      ],
      "metadata": {
        "colab": {
          "base_uri": "https://localhost:8080/"
        },
        "id": "ZiH1tQvE-m9e",
        "outputId": "b2d8051c-f534-4934-a20d-d10e70b4ae9c"
      },
      "execution_count": 14,
      "outputs": [
        {
          "output_type": "stream",
          "name": "stdout",
          "text": [
            "score:90\n",
            "A\n"
          ]
        }
      ]
    },
    {
      "cell_type": "code",
      "source": [],
      "metadata": {
        "id": "AgLMXbC4_5j1"
      },
      "execution_count": null,
      "outputs": []
    }
  ]
}